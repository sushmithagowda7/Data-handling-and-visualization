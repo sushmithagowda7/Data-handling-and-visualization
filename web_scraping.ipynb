{
  "nbformat": 4,
  "nbformat_minor": 0,
  "metadata": {
    "colab": {
      "provenance": [],
      "authorship_tag": "ABX9TyOPW3uUM5O6KHn/OqpzpZTV",
      "include_colab_link": true
    },
    "kernelspec": {
      "name": "python3",
      "display_name": "Python 3"
    },
    "language_info": {
      "name": "python"
    }
  },
  "cells": [
    {
      "cell_type": "markdown",
      "metadata": {
        "id": "view-in-github",
        "colab_type": "text"
      },
      "source": [
        "<a href=\"https://colab.research.google.com/github/sushmithagowda7/Data-handling-and-visualization/blob/main/web_scraping.ipynb\" target=\"_parent\"><img src=\"https://colab.research.google.com/assets/colab-badge.svg\" alt=\"Open In Colab\"/></a>"
      ]
    },
    {
      "cell_type": "code",
      "source": [
        "import requests\n",
        "from bs4 import BeautifulSoup\n",
        "\n",
        "def getdata(url):\n",
        "    r = requests.get(url)\n",
        "    return r.text\n",
        "\n",
        "htmldata = getdata(\"https://www.geeksforgeeks.org/\")\n",
        "soup = BeautifulSoup(htmldata, 'html.parser')\n",
        "for item in soup.find_all('img'):\n",
        "    print(item['src'])"
      ],
      "metadata": {
        "id": "0fAo4uOSMA24",
        "outputId": "97ff5f2b-7170-45f2-9659-f0fe68416232",
        "colab": {
          "base_uri": "https://localhost:8080/"
        }
      },
      "execution_count": 4,
      "outputs": [
        {
          "output_type": "stream",
          "name": "stdout",
          "text": [
            "https://media.geeksforgeeks.org/gfg-gg-logo.svg\n",
            "https://media.geeksforgeeks.org/auth-dashboard-uploads/gfgFooterLogo.png\n",
            "https://media.geeksforgeeks.org/auth-dashboard-uploads/googleplay.png\n",
            "https://media.geeksforgeeks.org/auth-dashboard-uploads/appstore.png\n",
            "\n"
          ]
        }
      ]
    }
  ]
}